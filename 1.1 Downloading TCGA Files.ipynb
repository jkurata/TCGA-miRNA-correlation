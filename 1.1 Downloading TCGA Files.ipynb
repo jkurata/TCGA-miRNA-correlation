{
 "cells": [
  {
   "cell_type": "markdown",
   "metadata": {},
   "source": [
    "# Creating manifest\n",
    "\n",
    "The GDC API (<a href=\"https://docs.gdc.cancer.gov/API/Users_Guide/Getting_Started/\">user guide</a>) can be used to create a manifest of files to download. The files can be downloaded directly using the API, but since we will be downloading quite a few files, we will use the <a href=\"https://gdc.cancer.gov/access-data/gdc-data-transfer-tool\">GDC data transfer tool</a> instead. More information about the use of this client can be found <a href=\"https://docs.gdc.cancer.gov/Data_Transfer_Tool/Users_Guide/Preparing_for_Data_Download_and_Upload/\">here</a>. \n",
    "\n",
    "First, we can verify we can connect to the GDC API and check that it is up."
   ]
  },
  {
   "cell_type": "code",
   "execution_count": 2,
   "metadata": {},
   "outputs": [],
   "source": [
    "import json\n",
    "import requests\n",
    "\n",
    "def check_tcga():\n",
    "    \"\"\"\n",
    "        Checks the status of TCGA to ensure it is up\n",
    "    \"\"\"\n",
    "    status_endpt = 'https://api.gdc.cancer.gov/status'\n",
    "    response = requests.get(status_endpt)\n",
    "    response = response.json()\n",
    "    status = response[u\"status\"]\n",
    "    if status == u\"OK\":\n",
    "        return True\n",
    "    else:\n",
    "        return False"
   ]
  },
  {
   "cell_type": "code",
   "execution_count": 3,
   "metadata": {},
   "outputs": [
    {
     "data": {
      "text/plain": [
       "True"
      ]
     },
     "execution_count": 3,
     "metadata": {},
     "output_type": "execute_result"
    }
   ],
   "source": [
    "check_tcga()"
   ]
  },
  {
   "cell_type": "code",
   "execution_count": null,
   "metadata": {},
   "outputs": [],
   "source": [
    "import json\n",
    "import requests\n",
    "def fetch_manifest(project, data_category, out_dir, data_type=None, workflow_type=None):\n",
    "    \"\"\"\n",
    "        Fetches the manifest and metadata of the files of data_type for the passed in project regarding \n",
    "        \n",
    "        project: TCGA project (ie TCGA-STAD, TCGA-CESC)\n",
    "        data_category: file category (ie Clinical, Transcriptome Profiling)\n",
    "        out_dir: directory to output manifest and metadata files\n",
    "        data_type: file experiment type (ie Gene Expression Quantification)\n",
    "    \"\"\"\n",
    "    file_endpt = 'https://api.gdc.cancer.gov/files'\n",
    "    file_name = \"{} {} Manifest.txt\".format(project, data_category)\n",
    "    content_list ={\"op\":\"and\",\n",
    "                  \"content\":[\n",
    "                      {\n",
    "                          \"op\": \"=\",\n",
    "                          \"content\":{\n",
    "                              \"field\": \"data_category\",\n",
    "                              \"value\": data_category\n",
    "                          }\n",
    "                      },{\n",
    "                          \"op\": \"=\",\n",
    "                          \"content\":{\n",
    "                              \"field\": \"cases.project.project_id\",\n",
    "                              \"value\": project\n",
    "                          }\n",
    "                      }\n",
    "                  ]\n",
    "                  }\n",
    "    # for all except clinical data\n",
    "    if data_type is not None:\n",
    "        file_name = \"{} {} Manifest.txt\".format(project, data_type)\n",
    "        content_list[\"content\"] += [{\n",
    "                          \"op\": \"=\",\n",
    "                          \"content\":{\n",
    "                              \"field\": \"data_type\",\n",
    "                              \"value\": data_type\n",
    "                          }\n",
    "                      }]\n",
    "        # mRNA-seq data have multiple analysis methods, only retrieve one specified by workflow_type\n",
    "        if data_type == \"Gene Expression Quantification\":\n",
    "            content_list[\"content\"] += [{\n",
    "                              \"op\": \"=\",\n",
    "                              \"content\":{\n",
    "                                  \"field\": \"analysis.workflow_type\",\n",
    "                                  \"value\": workflow_type\n",
    "                              }\n",
    "                          }]\n",
    "    params = {'filters': json.dumps(content_list), \"return_type\": \"manifest\", \"size\": \"1500\"}\n",
    "    responseRAW = requests.get(file_endpt, params=params)\n",
    "    # remove spaces \n",
    "    file_name = file_name.replace(\" \", \"_\")\n",
    "    file_name = \"{}/{}\".format(out_dir, file_name)\n",
    "    with open(file_name, \"w\") as out_file:\n",
    "        out_file.write(responseRAW.content)\n",
    "        \n",
    "    # fetch metadata\n",
    "    field_list = [\n",
    "        \"file_name\",\n",
    "        \"file_id\",\n",
    "        \"associated_entities.case_id\",\n",
    "        \"cases.samples.sample_type\",\n",
    "        \"cases.samples.sample_type_id\"\n",
    "    ]\n",
    "\n",
    "    fields = \",\".join(field_list)\n",
    "    \n",
    "    meta_params = {'filters': json.dumps(content_list), \"size\": \"1500\", \"pretty\": True, \"fields\":fields}\n",
    "    meta_responseRAW = requests.get(file_endpt, params=meta_params)\n",
    "    meta_file_name = \"{} {} Metadata.json\".format(project, data_type)\n",
    "    # remove spaces \n",
    "    meta_file_name = meta_file_name.replace(\" \", \"_\")\n",
    "    meta_file_name = \"{}/{}\".format(out_dir, meta_file_name)\n",
    "    with open(meta_file_name, \"w\") as out_file:\n",
    "        out_file.write(meta_responseRAW.content)\n",
    "    \n",
    "    return file_name, meta_file_name"
   ]
  },
  {
   "cell_type": "markdown",
   "metadata": {},
   "source": [
    "# File download\n",
    "\n",
    "We can then download the files using the <a href=\"https://gdc.cancer.gov/access-data/gdc-data-transfer-tool\">GDC data transfer tool</a>. The tool was downloaded and location of the program was added to the PATH environmental variable."
   ]
  },
  {
   "cell_type": "code",
   "execution_count": null,
   "metadata": {},
   "outputs": [],
   "source": [
    "import subprocess\n",
    "\n",
    "def fetch_files(manifest_file, file_dest_dir):\n",
    "    \"\"\"\n",
    "        Fetches the files from TCGA using the GDC data transfer tool\n",
    "        \n",
    "        manifest_file: location of the manifest file\n",
    "        file_dest_dir: directory to download the files to\n",
    "    \"\"\"\n",
    "    run_str = 'gdc-client download -m \"{}\" -d \"{}\"'.format(manifest_file, file_dest_dir)\n",
    "    print \"Running command: {}\".format(run_str)\n",
    "    return_code = subprocess.call(run_str, shell=True)\n",
    "    return return_code"
   ]
  },
  {
   "cell_type": "markdown",
   "metadata": {},
   "source": [
    "# Fetch all files for Project\n",
    "\n",
    "The below function uses the previously functions to download all of the mRNA-seq HTSeq-count, miRNA-seq Isoform Expression Quantification, and clinical data files for a given project."
   ]
  },
  {
   "cell_type": "code",
   "execution_count": null,
   "metadata": {},
   "outputs": [],
   "source": [
    "import os\n",
    "\n",
    "def fetch_all(project, output_dir):\n",
    "    if not check_tcga():\n",
    "        return \"TCGA API did not respond\"\n",
    "    \n",
    "    # fetch mRNA files\n",
    "    mrna_out = \"{}/mRNA-seq\".format(output_dir)\n",
    "    # Check if directory exists, if not create directory\n",
    "    if not os.path.exists(mrna_out):\n",
    "        os.makedirs(mrna_out)\n",
    "        \n",
    "    manifest_file, meta_file = fetch_manifest(project, \"Transcriptome Profiling\", mrna_out, \n",
    "                                              data_type=\"Gene Expression Quantification\", workflow_type=\"HTSeq - Counts\")\n",
    "    return_code = fetch_files(manifest_file, mrna_out)\n",
    "    if return_code == 0:\n",
    "        print \"mRNA gene expression files downloaded successfully\"\n",
    "    else:\n",
    "        print \"Error {}: error when downloading mRNA gene expression files\".format(return_code)\n",
    "        \n",
    "    # fetch miRNA files\n",
    "    mirna_out = \"{}/miRNA-seq/Isoform Expression Quantification\".format(output_dir)\n",
    "    # Check if directory exists, if not create directory\n",
    "    if not os.path.exists(mirna_out):\n",
    "        os.makedirs(mirna_out)\n",
    "        \n",
    "    manifest_file, meta_file = fetch_manifest(project, \"Transcriptome Profiling\", mirna_out, \n",
    "                                              data_type=\"Isoform Expression Quantification\")\n",
    "    return_code = fetch_files(manifest_file, mirna_out)\n",
    "    if return_code == 0:\n",
    "        print \"miRNA isoform expression files downloaded successfully\"\n",
    "    else:\n",
    "        print \"Error {}: error when downloading miRNA isoform expression files\".format(return_code)\n",
    "        \n",
    "    # fetch clinical data files\n",
    "    clinical_out = \"{}/Clinical\".format(output_dir)\n",
    "    # Check if directory exists, if not create directory\n",
    "    if not os.path.exists(clinical_out):\n",
    "        os.makedirs(clinical_out)\n",
    "        \n",
    "    manifest_file, meta_file = fetch_manifest(project, \"Clinical\", clinical_out)\n",
    "    return_code = fetch_files(manifest_file, clinical_out)\n",
    "    if return_code == 0:\n",
    "        print \"Clinical data files downloaded successfully\"\n",
    "    else:\n",
    "        print \"Error {}: error when downloading clinical data files\".format(return_code)"
   ]
  },
  {
   "cell_type": "markdown",
   "metadata": {},
   "source": [
    "The below code can be used to download all of these files for all 33 TCGA projects."
   ]
  },
  {
   "cell_type": "code",
   "execution_count": null,
   "metadata": {},
   "outputs": [],
   "source": [
    "import os\n",
    "\n",
    "def get_all_tcga(out_dir):\n",
    "    \"\"\"\n",
    "        Loops over all 33 TCGA projects and calls fetch_all\n",
    "    \"\"\"\n",
    "    for x in [\"CHOL\", \"UCS\", \"DLBC\", \"UVM\", \"MESO\", \"ACC\", \"KICH\", \"THYM\", \"TGCT\", \n",
    "              \"READ\", \"BRCA\", \"GBM\", \"LUAD\", \"KIRC\", \"HNSC\", \"LGG\", \"LUSC\", \"PRAD\", \n",
    "              \"SKCM\", \"COAD\", \"BLCA\", \"LIHC\", \"KIRP\", \"SARC\", \"LAML\", \"ESCA\", \"PAAD\", \n",
    "              \"PCPG\", \"OV\", \"UCEC\", \"THCA\", \"STAD\", \"CESC\"]:\n",
    "        out_dir = \"{}/{}\".format(out_dir, x)\n",
    "        # Check if directory exists, if not create directory\n",
    "        if not os.path.exists(out_dir):\n",
    "            os.makedirs(out_dir)\n",
    "        fetch_all(\"TCGA-{}\".format(x), out_dir)"
   ]
  }
 ],
 "metadata": {
  "kernelspec": {
   "display_name": "Python 2",
   "language": "python",
   "name": "python2"
  },
  "language_info": {
   "codemirror_mode": {
    "name": "ipython",
    "version": 2
   },
   "file_extension": ".py",
   "mimetype": "text/x-python",
   "name": "python",
   "nbconvert_exporter": "python",
   "pygments_lexer": "ipython2",
   "version": "2.7.9"
  }
 },
 "nbformat": 4,
 "nbformat_minor": 2
}
