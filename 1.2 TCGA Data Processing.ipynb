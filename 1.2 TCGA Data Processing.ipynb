{
 "cells": [
  {
   "cell_type": "markdown",
   "metadata": {},
   "source": [
    "# Combining samples\n",
    "\n",
    "Currently, the data has individual folders and files for each sample. To put all of the sequencing information from various patients into a single file, the below code can be used.\n",
    "\n",
    "## miRNA-seq\n",
    "\n",
    "For each set of miRNA expression data, I can create a summary csv with the expression of each mature miRNA.\n",
    "\n",
    "The difficulty comes in dealing with cross mapped miRNAs... There is no easy way to determine which other miRNA cross mapped miRNAs map to. I decided to just go with what the original <a  href=\"https://academic.oup.com/nar/article/44/1/e3/2499678\">paper</a>/data analysis did, which is count the read for both miRNAs.\n",
    "\n",
    "The summary file columns are the case id followed by the sample type. This sample type is a two digit code which 01-09 for tumors, 10-19 for normal and 20-29 for control (according to the outdated documentation <a href=\"https://wiki.nci.nih.gov/display/TCGA/TCGA+barcode\">here</a>). A full list of codes is <a href=\"https://gdc.cancer.gov/resources-tcga-users/tcga-code-tables/sample-type-codes\">here</a>."
   ]
  },
  {
   "cell_type": "code",
   "execution_count": null,
   "metadata": {},
   "outputs": [],
   "source": [
    "import json\n",
    "import pandas as pd\n",
    "\n",
    "def collect_miRNA(file_loc, meta_file, output_raw, output_rpm):\n",
    "    \"\"\"\n",
    "        Collects all of miRNA-seq data from a TCGA project into two csv files, one with raw \n",
    "        and one with RPM normalized read counts\n",
    "        \n",
    "        The case IDs will be used as columns and the sample_type_id will be appended to the case ID\n",
    "        01: Primary Solid Tumor\n",
    "        02: Recurrent Solid Tumor\n",
    "        05: Additional - New Primary\n",
    "        06: Metastatic\n",
    "        07: Additional Metastatic\n",
    "        11: Solid Tissue Normal\n",
    "    \"\"\"\n",
    "    # dictionaries which will be turned into dataframes at the end\n",
    "    dict_raw = {}\n",
    "    dict_rpm = {}\n",
    "    # find the sample ids associated with each file and loop over the files\n",
    "    meta_loc = \"{}/{}\".format(file_loc, meta_file)\n",
    "    with open(meta_loc) as meta:    \n",
    "        data = json.load(meta)\n",
    "        try:\n",
    "            # for metadata downloaded using the API\n",
    "            data = data[\"data\"][\"hits\"]\n",
    "        except TypeError:\n",
    "            # for metadata manually downloaded\n",
    "            pass\n",
    "        for f_info in data:\n",
    "            f_name = f_info[\"file_name\"]\n",
    "            file_id = f_info[\"file_id\"]\n",
    "            case_id = f_info[\"associated_entities\"][0][\"case_id\"]\n",
    "            samps = f_info[\"cases\"][0][\"samples\"]\n",
    "            # check if multiple samples associated with the file\n",
    "            if len(samps) != 1:\n",
    "                print \"Multiple samples associated with file {}\".format(f_name)\n",
    "            samp_type_id = samps[0][\"sample_type_id\"]\n",
    "            \n",
    "            # read the isoform data\n",
    "            df = pd.read_table(\"{}/{}/{}\".format(file_loc, file_id, f_name), header=0)\n",
    "            # sum based on the miRNA region ie 'mature,MIMAT0000062'\n",
    "            mat_df = df.groupby(\"miRNA_region\").sum()\n",
    "            # filter out non mature reads\n",
    "            mat_df = mat_df[mat_df.index.str.contains(\"mature\")]\n",
    "            # remove mature annotation from index\n",
    "            mat_df.index = mat_df.index.str.replace(\"mature,\", \"\")\n",
    "            col_name = \"{}_{}\".format(case_id, samp_type_id)\n",
    "            dict_raw[col_name] = mat_df[\"read_count\"]\n",
    "            dict_rpm[col_name] = mat_df[\"reads_per_million_miRNA_mapped\"]\n",
    "    \n",
    "    df_raw = pd.DataFrame(dict_raw)\n",
    "    df_rpm = pd.DataFrame(dict_rpm)\n",
    "    \n",
    "    # fill any missing read counts with 0\n",
    "    df_raw.fillna(0, inplace=True)\n",
    "    df_rpm.fillna(0, inplace=True)\n",
    "    \n",
    "    df_raw.to_csv(output_raw)\n",
    "    df_rpm.to_csv(output_rpm)"
   ]
  },
  {
   "cell_type": "markdown",
   "metadata": {},
   "source": [
    "The below code can be used to create miRNA summary files for all downloaded TCGA projects."
   ]
  },
  {
   "cell_type": "code",
   "execution_count": null,
   "metadata": {},
   "outputs": [],
   "source": [
    "import os\n",
    "\n",
    "def tcga_mirna_summary(tcga_dir):\n",
    "    for in_dir in os.listdir(tcga_dir):\n",
    "        print \"Processing {}\".format(in_dir)\n",
    "        mir_dir = \"{}/{}/miRNA-seq/Isoform Expression Quantification\".format(tcga_dir, in_dir)\n",
    "        # find json metadata file\n",
    "        meta_file = [meta for meta in os.listdir(mir_dir) if \"json\" in meta][0]\n",
    "        collect_miRNA(mir_dir, meta_file, \n",
    "                      \"TCGA Summary/miRNA-seq/{} miRNA-seq Raw Reads.csv\".format(in_dir),\n",
    "                      \"TCGA Summary/miRNA-seq/{} miRNA-seq RPM Reads.csv\".format(in_dir))"
   ]
  },
  {
   "cell_type": "markdown",
   "metadata": {},
   "source": [
    "## mRNA-seq\n",
    "\n",
    "The same thing can be done for mRNA-seq information. The large number of samples in some of the datasets, such as BRAC, require large amounts of memory."
   ]
  },
  {
   "cell_type": "code",
   "execution_count": null,
   "metadata": {},
   "outputs": [],
   "source": [
    "import json\n",
    "import pandas as pd\n",
    "\n",
    "def collect_mRNA(file_loc, meta_file, output_file):\n",
    "    \"\"\"\n",
    "        Collects all of mRNA-seq data from a TCGA project into a csv file\n",
    "        \n",
    "        The case IDs will be used as columns and the sample_type_id will be appended to the case ID\n",
    "        01: Primary Solid Tumor\n",
    "        02: Recurrent Solid Tumor\n",
    "        05: Additional - New Primary\n",
    "        06: Metastatic\n",
    "        07: Additional Metastatic\n",
    "        11: Solid Tissue Normal\n",
    "    \"\"\"\n",
    "    # dictionary which will be turned into dataframe at the end\n",
    "    dict_mrna = {}\n",
    "    # find the sample ids associated with each file and loop over the files\n",
    "    meta_loc = \"{}/{}\".format(file_loc, meta_file)\n",
    "    with open(meta_loc, \"r\") as meta, open(output_file, \"w\") as fout:    \n",
    "        data = json.load(meta)\n",
    "        try:\n",
    "            # for metadata downloaded using the API\n",
    "            data = data[\"data\"][\"hits\"]\n",
    "        except TypeError:\n",
    "            # for metadata manually downloaded\n",
    "            pass\n",
    "        for f_info in data:\n",
    "            f_name = f_info[\"file_name\"]\n",
    "            file_id = f_info[\"file_id\"]\n",
    "            case_id = f_info[\"associated_entities\"][0][\"case_id\"]\n",
    "            samps = f_info[\"cases\"][0][\"samples\"]\n",
    "            # check if multiple samples associated with the file\n",
    "            if len(samps) != 1:\n",
    "                print \"Multiple samples associated with file {}\".format(f_name)\n",
    "            samp_type_id = samps[0][\"sample_type_id\"]\n",
    "            \n",
    "            # read the HTSeq count data, the squeeze boolean ensures it will produce a series\n",
    "            ser = pd.read_table(\"{}/{}/{}\".format(file_loc, file_id, f_name), header=None, index_col=0, squeeze=True)\n",
    "            # drop the extra rows from HTSeq count\n",
    "            ser.drop([\"__no_feature\", \"__ambiguous\", \"__too_low_aQual\", \"__not_aligned\", \"__alignment_not_unique\"], inplace=True)\n",
    "            \n",
    "            col_name = \"{}_{}\".format(case_id, samp_type_id)\n",
    "            dict_mrna[col_name] = ser\n",
    "    \n",
    "    df = pd.DataFrame(dict_mrna)\n",
    "    df.to_csv(output_file)"
   ]
  },
  {
   "cell_type": "markdown",
   "metadata": {},
   "source": [
    "These reads can then be TMM normalized (<a href=\"https://doi.org/10.1186/gb-2010-11-3-r25\">TMM paper</a>). The data_processing package includes tmm_norm which is my implementation of EdgeR's <a href=\"https://github.com/Bioconductor-mirror/edgeR/blob/master/R/calcNormFactors.R\">calcNormFactors</a>."
   ]
  },
  {
   "cell_type": "code",
   "execution_count": null,
   "metadata": {},
   "outputs": [],
   "source": [
    "import random\n",
    "import pandas as pd\n",
    "import data_processing as dp\n",
    "\n",
    "def make_tmm(file_name):\n",
    "    df = pd.read_csv(file_name, header=0, index_col=0)\n",
    "    rand_samp = random.choice(df.columns.tolist())\n",
    "    df_tmm = dp.tmm_norm(df, rand_samp)\n",
    "    return df_tmm"
   ]
  },
  {
   "cell_type": "markdown",
   "metadata": {},
   "source": [
    "The below code can be used to create mRNA summary files for all downloaded TCGA projects."
   ]
  },
  {
   "cell_type": "code",
   "execution_count": null,
   "metadata": {},
   "outputs": [],
   "source": [
    "import os\n",
    "\n",
    "def tcga_mrna_summary(tcga_dir):\n",
    "    for in_dir in os.listdir(tcga_dir):\n",
    "        print \"Processing {}\".format(in_dir)\n",
    "        mrna_dir = \"{}/{}/mRNA-seq\".format(tcga_dir, in_dir)\n",
    "        # find json metadata file\n",
    "        meta_file = [meta for meta in os.listdir(mrna_dir) if \"json\" in meta][0]\n",
    "        out_file = \"{}/TCGA Summary/mRNA-seq/{} mRNA-seq Reads.csv\".format(tcga_dir, in_dir)\n",
    "        # check if file already exists\n",
    "        if os.path.isfile(out_file):\n",
    "            continue\n",
    "        collect_mRNA(mrna_dir, meta_file, out_file)\n",
    "        tmm_df = make_tmm(out_file)\n",
    "        # filtered to remove genes for which there is not at least 1 TMM normalized read in at least one sample\n",
    "        # also truncate to one decimal place to help limit file size\n",
    "        tmm_filt = tmm_df[tmm_df.applymap(lambda x: x >= 1).any(axis=1)]\n",
    "        tmm_filt.to_csv(\"D:/TCGA/TCGA Summary\\mRNA-seq\\{} mRNA-seq Reads (TMM Norm).csv\".format(in_dir), float_format=\"%.1f\")"
   ]
  }
 ],
 "metadata": {
  "kernelspec": {
   "display_name": "Python 2",
   "language": "python",
   "name": "python2"
  },
  "language_info": {
   "codemirror_mode": {
    "name": "ipython",
    "version": 2
   },
   "file_extension": ".py",
   "mimetype": "text/x-python",
   "name": "python",
   "nbconvert_exporter": "python",
   "pygments_lexer": "ipython2",
   "version": "2.7.9"
  }
 },
 "nbformat": 4,
 "nbformat_minor": 2
}
