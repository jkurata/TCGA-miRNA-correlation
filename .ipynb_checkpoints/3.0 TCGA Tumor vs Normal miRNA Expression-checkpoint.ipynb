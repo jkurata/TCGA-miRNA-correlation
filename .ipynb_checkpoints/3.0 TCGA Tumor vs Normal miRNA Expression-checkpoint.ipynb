{
 "cells": [
  {
   "cell_type": "markdown",
   "metadata": {},
   "source": [
    "# Tumor vs Normal Expression\n",
    "\n",
    "For cancers with a significant number of control samples, the difference in miRNA expression between tumor and control samples can be determined.\n",
    "\n",
    "## Formatting for DESeq2\n",
    "\n",
    "First, we can look at the number of control samples and keep only those with more than 10 control samples. For some of the control samples, there is not a corresponding tumor samples, so those are excluded from our analysis."
   ]
  },
  {
   "cell_type": "code",
   "execution_count": null,
   "metadata": {},
   "outputs": [],
   "source": [
    "import os\n",
    "import pandas as pd\n",
    "\n",
    "def deseq2_format(summary_file, output_dir, min_samp=10):\n",
    "    \"\"\"\n",
    "        summary_file: TCGA project summary file (made in 1.5)\n",
    "        output_dir: directory to save files to \n",
    "        min_samp (default=10): minimum number of paired tumor and normal samples required\n",
    "    \"\"\"\n",
    "\n",
    "    sum_df = pd.read_csv(\"10_TCGA_PanCancer/Project Summary.csv\", header=0, index_col=0)\n",
    "    df = sum_df[sum_df[\"miRNA Normal Samples\"] > min_samp]\n",
    "    project_list = df.index.tolist()\n",
    "\n",
    "    for project in project_list:\n",
    "        print \"Processing {}\".format(project)\n",
    "        mir_file = \"../TCGA Data Processing/TCGA Summary/miRNA-seq/{} miRNA-seq Raw Reads.csv\".format(project)\n",
    "        mir = pd.read_csv(mir_file, header=0, index_col=0)\n",
    "\n",
    "        # find paired tumor and normal samples\n",
    "        control_samps = filter(lambda x: \"_11\" in x or \"_10\" in x, mir.columns.tolist())\n",
    "        patients = [y.split(\"_\")[0] for y in control_samps]\n",
    "        # solid tumors\n",
    "        if \"_11\" in control_samps[0]:\n",
    "            tumor_samps = [\"{}_01\".format(z) for z in patients]\n",
    "        # blood cancers\n",
    "        else:\n",
    "            tumor_samps = [\"{}_03\".format(z) for z in patients]\n",
    "\n",
    "        tumor_samps_exist = [a for a in tumor_samps if a in mir.columns]\n",
    "        if len(tumor_samps_exist) > min_samp:\n",
    "            if len(tumor_samps) != len(tumor_samps_exist):\n",
    "                print \"Not all {} normal samples have corresponding tumor samples: {}/{}\".format(project, \n",
    "                                                                                                 len(tumor_samps_exist), \n",
    "                                                                                                 len(tumor_samps))\n",
    "                patients = [y.split(\"_\")[0] for y in tumor_samps_exist]\n",
    "                if \"_11\" in control_samps[0]:\n",
    "                    control_samps = [\"{}_11\".format(z) for z in patients]\n",
    "                else:\n",
    "                    control_samps = [\"{}_10\".format(z) for z in patients]\n",
    "                tumor_samps = tumor_samps_exist\n",
    "        else:\n",
    "            print \"{} or less paired samples for {}. Skipping...\".format(min_samp, project)\n",
    "            continue\n",
    "        tumor_df = mir[tumor_samps]\n",
    "        control_df = mir[control_samps]\n",
    "        out_df = control_df.join(tumor_df)\n",
    "        out_file = \"{}/{} tumor and control miRNA-seq Read Counts.csv\".format(output_dir, project)\n",
    "        out_df.to_csv(out_file)\n",
    "\n",
    "        # output column data\n",
    "        col_df = pd.DataFrame(index=control_samps+tumor_samps, \n",
    "                              data={\"Patient\": patients*2, \n",
    "                                    \"Type\": [\"Control\"]*len(patients)+[\"Tumor\"]*len(patients)})\n",
    "        col_file = \"{}/{} tumor and control miRNA-seq Column Data.csv\".format(output_dir, project)\n",
    "        col_df.to_csv(col_file)"
   ]
  }
 ],
 "metadata": {
  "kernelspec": {
   "display_name": "Python 2",
   "language": "python",
   "name": "python2"
  },
  "language_info": {
   "codemirror_mode": {
    "name": "ipython",
    "version": 2
   },
   "file_extension": ".py",
   "mimetype": "text/x-python",
   "name": "python",
   "nbconvert_exporter": "python",
   "pygments_lexer": "ipython2",
   "version": "2.7.9"
  }
 },
 "nbformat": 4,
 "nbformat_minor": 2
}
