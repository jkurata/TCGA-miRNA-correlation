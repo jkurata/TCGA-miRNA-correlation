{
 "cells": [
  {
   "cell_type": "markdown",
   "metadata": {},
   "source": [
    "# TCGA Project File Summary\n",
    "\n",
    "A summary with the number of each type of files for each TCGA project can be created. The sample type code information can be found <a href=\"https://gdc.cancer.gov/resources-tcga-users/tcga-code-tables/sample-type-codes\">here</a>."
   ]
  },
  {
   "cell_type": "code",
   "execution_count": null,
   "metadata": {},
   "outputs": [],
   "source": [
    "import os\n",
    "import pandas as pd\n",
    "from collections import Counter\n",
    "\n",
    "def make_summary(clin_dir, mrna_dir, mirna_dir):\n",
    "    \"\"\"\n",
    "        clin_dir: directory with clinical summary files\n",
    "        mrna_dir: directory with mRNA-seq summary files\n",
    "        mirna_dir: directory with miRNA-seq summary files\n",
    "    \"\"\"\n",
    "\n",
    "    projects = ['CESC', 'UCEC', 'OV', 'THCA', 'STAD', 'CHOL', 'UCS', 'DLBC', 'UVM', 'MESO', \n",
    "                'ACC', 'KICH', 'THYM', 'TGCT', 'READ','BRCA', 'GBM', 'LUAD', 'KIRC', 'HNSC', \n",
    "                'LGG', 'LUSC', 'PRAD', 'SKCM', 'COAD', 'BLCA', 'LIHC', 'KIRP', 'SARC', \n",
    "                'LAML', 'ESCA', 'PAAD', 'PCPG']\n",
    "    df = pd.DataFrame(columns=[\"Clinical Data\", \"mRNA Samples\", \"mRNA Primary Tumor\", \"mRNA Recurrent Tumor\", \n",
    "                               \"mRNA Normal Samples\", \"mRNA Metastasis Samples\", \"miRNA Samples\", \n",
    "                               \"miRNA Primary Tumor\", \"miRNA Recurrent Tumor\", \"miRNA Normal Samples\", \n",
    "                               \"miRNA Metastasis Samples\"])\n",
    "    for pro in projects:\n",
    "        out_dict = {}\n",
    "        df_clin = pd.read_csv(\"{}/{} Clinical Data Summary.csv\".format(clin_dir, pro), header=0, index_col=0)\n",
    "        out_dict[\"Clinical Data\"] = df_clin.shape[0]\n",
    "\n",
    "        df_mrna = pd.read_csv(\"{}/{} mRNA-seq Reads.csv\".format(mrna_dir, pro), header=0, index_col=0)\n",
    "        out_dict[\"mRNA Samples\"] = df_mrna.shape[1]\n",
    "        mrna_samp_types = [x.split(\"_\")[1] for x in df_mrna.columns]\n",
    "        mrna_counter = Counter(mrna_samp_types)\n",
    "        out_dict[\"mRNA Primary Tumor\"] = mrna_counter[\"01\"] + mrna_counter[\"03\"] + mrna_counter[\"05\"]\n",
    "        out_dict[\"mRNA Recurrent Tumor\"] = mrna_counter[\"02\"] + mrna_counter[\"04\"]\n",
    "        out_dict[\"mRNA Normal Samples\"] = mrna_counter[\"11\"] + mrna_counter[\"10\"]\n",
    "        out_dict[\"mRNA Metastasis Samples\"] = mrna_counter[\"06\"] + mrna_counter[\"07\"]\n",
    "\n",
    "        df_mir = pd.read_csv(\"{}/{} miRNA-seq RPM Reads.csv\".format(mirna_dir, pro), header=0, index_col=0)\n",
    "        out_dict[\"miRNA Samples\"] = df_mir.shape[1]\n",
    "        mirna_samp_types = [x.split(\"_\")[1] for x in df_mir.columns]\n",
    "        mirna_counter = Counter(mirna_samp_types)\n",
    "        out_dict[\"miRNA Primary Tumor\"] = mirna_counter[\"01\"] + mirna_counter[\"03\"] + mirna_counter[\"05\"]\n",
    "        out_dict[\"miRNA Recurrent Tumor\"] = mirna_counter[\"02\"] + mirna_counter[\"04\"]\n",
    "        out_dict[\"miRNA Normal Samples\"] = mirna_counter[\"11\"] + mirna_counter[\"10\"]\n",
    "        out_dict[\"miRNA Metastasis Samples\"] = mirna_counter[\"06\"] + mirna_counter[\"07\"]\n",
    "\n",
    "        df.loc[pro] = out_dict\n",
    "    df.to_csv(\"Project Summary.csv\")"
   ]
  }
 ],
 "metadata": {
  "kernelspec": {
   "display_name": "Python 2",
   "language": "python",
   "name": "python2"
  },
  "language_info": {
   "codemirror_mode": {
    "name": "ipython",
    "version": 2
   },
   "file_extension": ".py",
   "mimetype": "text/x-python",
   "name": "python",
   "nbconvert_exporter": "python",
   "pygments_lexer": "ipython2",
   "version": "2.7.9"
  }
 },
 "nbformat": 4,
 "nbformat_minor": 2
}
