{
 "cells": [
  {
   "cell_type": "markdown",
   "metadata": {},
   "source": [
    "# DESeq2\n",
    "\n",
    "We can use the R package <a href=\"https://bioconductor.org/packages/release/bioc/html/DESeq2.html\">DESeq2</a> to determine which miRNAs are differentially expressed between paired control and tumor samples."
   ]
  },
  {
   "cell_type": "code",
   "execution_count": null,
   "metadata": {},
   "outputs": [],
   "source": [
    "library(\"DESeq2\")"
   ]
  },
  {
   "cell_type": "code",
   "execution_count": null,
   "metadata": {},
   "outputs": [],
   "source": [
    "run_de = function(out_dir){\n",
    "    proj_list = c('UCEC', 'THCA', 'STAD', 'KICH', 'BRCA', 'LUAD', 'KIRC', 'HNSC', 'LUSC', 'PRAD', 'BLCA', 'LIHC', 'KIRP', 'ESCA')\n",
    "    for (proj in proj_list){\n",
    "        read_counts = sprintf(\"%s/%s tumor and control miRNA-seq Read Counts.csv\", out_dir, proj)\n",
    "        col_data = sprintf(\"%s/%s tumor and control miRNA-seq Column Data.csv\", out_dir, proj)\n",
    "        df = read.csv(read_counts, check.names=FALSE, row.names=1)\n",
    "        df_col = read.csv(col_data, row.names=1)\n",
    "        dds = DESeqDataSetFromMatrix(countData = df, colData = df_col, design = ~Patient + Type)\n",
    "\n",
    "        dds = DESeq(dds)\n",
    "        res = results(dds)\n",
    "        resOrdered = res[order(res$padj),]\n",
    "\n",
    "        out_file = sprintf(\"%s/%s_TumorvsNormal_DESeq2_Results.csv\", out_dir, proj)\n",
    "        write.csv(as.data.frame(resOrdered), file=out_file)\n",
    "\n",
    "        out_norm_file = sprintf(\"%s/%s_TumorvsNormal_DESeq2_Normalized_Counts.csv\", out_dir, proj)\n",
    "        write.csv(counts(dds, normalized=TRUE), file=out_norm_file)\n",
    "\n",
    "        ma_plot_file = sprintf(\"%s/%s_MA_plot.png\", out_dir, proj)\n",
    "        png(ma_plot_file)\n",
    "        plotMA(res)\n",
    "        dev.off()\n",
    "\n",
    "        vsd = varianceStabilizingTransformation(dds, blind=FALSE)\n",
    "        pca_plot_file = sprintf(\"%s/%s_PCA_plot.png\", out_dir, proj)\n",
    "        png(pca_plot_file)\n",
    "        plotPCA(vsd, intgroup=c( \"Type\"))\n",
    "        dev.off()\n",
    "    }\n",
    "}\n"
   ]
  }
 ],
 "metadata": {
  "kernelspec": {
   "display_name": "R",
   "language": "R",
   "name": "ir"
  },
  "language_info": {
   "codemirror_mode": "r",
   "file_extension": ".r",
   "mimetype": "text/x-r-source",
   "name": "R",
   "pygments_lexer": "r",
   "version": "3.4.4"
  }
 },
 "nbformat": 4,
 "nbformat_minor": 2
}
