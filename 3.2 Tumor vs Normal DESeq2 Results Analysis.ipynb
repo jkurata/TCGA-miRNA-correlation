{
 "cells": [
  {
   "cell_type": "code",
   "execution_count": null,
   "metadata": {},
   "outputs": [],
   "source": [
    "import pandas as pd\n",
    "\n",
    "project_list = ['UCEC', 'THCA', 'STAD', 'KICH', 'BRCA', 'LUAD', 'KIRC', 'HNSC', 'LUSC', 'PRAD', 'BLCA', 'LIHC', 'KIRP', 'ESCA']\n",
    "df_res = pd.DataFrame(columns = [\"miR-151a-3p log2FC\", \"miR-151a-3p padj\", \"miR-151a-5p log2FC\", \"miR-151a-5p padj\"])\n",
    "for proj in project_list:\n",
    "    f_name = \"10_TCGA_PanCancer\\DESeq2\\{}_TumorvsNormal_DESeq2_Results.csv\".format(proj)\n",
    "    df = pd.read_csv(f_name, index_col=0, header=0)\n",
    "    df_res.loc[proj] = [df.at[\"MIMAT0000757\", \"log2FoldChange\"], df.at[\"MIMAT0000757\", \"padj\"], \n",
    "                        df.at[\"MIMAT0004697\", \"log2FoldChange\"], df.at[\"MIMAT0004697\", \"padj\"]]\n",
    "df_res.to_csv(\"10_TCGA_PanCancer\\DESeq2\\miR-151a Results Summary.csv\")"
   ]
  },
  {
   "cell_type": "code",
   "execution_count": null,
   "metadata": {},
   "outputs": [],
   "source": [
    "%matplotlib inline\n",
    "\n",
    "import math\n",
    "import pandas as pd\n",
    "import matplotlib.pyplot as plt\n",
    "import seaborn as sns\n",
    "\n",
    "def make_151_3p_plot(out_file, figsize=False):\n",
    "    project_list = ['UCEC', 'THCA', 'STAD', 'KICH', 'BRCA', 'LUAD', 'KIRC', \n",
    "                    'HNSC', 'LUSC', 'PRAD', 'BLCA', 'LIHC', 'KIRP', 'ESCA']\n",
    "    df_all = pd.DataFrame(columns=[\"Sample ID\", \"Patient\", \"Type\", \"Normalized Read Counts\", \"TCGA Project\"])\n",
    "    for proj in project_list:\n",
    "        norm_file = \"10_TCGA_PanCancer/DESeq2/{}_TumorvsNormal_DESeq2_Normalized_Counts.csv\".format(proj)\n",
    "        df = pd.read_csv(norm_file, header=0, index_col=0)\n",
    "        df_151_3p = df.loc[\"MIMAT0000757\"]\n",
    "        # transpose so patient ids are index\n",
    "        df_3p = df_151_3p.T.reset_index()\n",
    "        df_3p.columns = [\"Sample ID\", \"Normalized Read Counts\"]\n",
    "        df_3p[\"Patient\"] = df_3p[\"Sample ID\"].apply(lambda x: x.split(\"_\")[0])\n",
    "        df_3p[\"Type\"] = df_3p[\"Sample ID\"].apply(lambda x: \"Normal\" if \"_11\" in x or \"_10\" in x else \"Tumor\")\n",
    "        df_3p[\"TCGA Project\"] = proj\n",
    "\n",
    "        df_all = df_all.append(df_3p)\n",
    "    \n",
    "    df_all[r\"log$_2$(Read Counts)\"] = df_all[\"Normalized Read Counts\"].apply(lambda y: 0 if y==0 else math.log(y,2))\n",
    "    \n",
    "    sns.set(color_codes=True, style=\"ticks\")\n",
    "    \n",
    "    if not figsize:\n",
    "        fig, ax = plt.subplots(1,1)\n",
    "    else:\n",
    "        fig, ax = plt.subplots(1,1, figsize=figsize)\n",
    "    \n",
    "    ax = sns.boxplot(x=\"TCGA Project\", y=r\"log$_2$(Read Counts)\", hue=\"Type\", data=df_all, \n",
    "                     ax=ax, fliersize=3)\n",
    "    sns.despine(offset=10)\n",
    "    ax.set_title(\"miR-151a-3p\")\n",
    "    ax.set_xticklabels(project_list, rotation=90)\n",
    "    ax.legend(bbox_to_anchor=(1.05, 0.5), loc=2)\n",
    "    \n",
    "    color = \"0.15\" # default seaborn \"black\" color\n",
    "    star_displacement = 0.16\n",
    "    stars_list = [ ('THCA', 3), ('STAD', 3), ('KICH', 3), ('BRCA', 2), ('KIRC', 3), ('HNSC', 1), ('LIHC', 3), ('KIRP', 3)]\n",
    "    for proj, stars in stars_list:\n",
    "        ind = project_list.index(proj)\n",
    "        x1 = 1*ind - 0.3\n",
    "        x2 = x1 + 0.6\n",
    "        # height above max y value\n",
    "        y = df_all[df_all[\"TCGA Project\"] == proj][r\"log$_2$(Read Counts)\"].max() + 0.2\n",
    "        ax.plot([x1,x2], [y, y], lw=1.5, c=color)\n",
    "        ax.text((x1+x2)/2.0, y-star_displacement, \"*\"*stars, ha=\"center\", va=\"bottom\", color=color, fontsize=14)\n",
    "    \n",
    "    plt.savefig(out_file, bbox_inches=\"tight\", dpi=400)"
   ]
  }
 ],
 "metadata": {
  "kernelspec": {
   "display_name": "Python 2",
   "language": "python",
   "name": "python2"
  },
  "language_info": {
   "codemirror_mode": {
    "name": "ipython",
    "version": 2
   },
   "file_extension": ".py",
   "mimetype": "text/x-python",
   "name": "python",
   "nbconvert_exporter": "python",
   "pygments_lexer": "ipython2",
   "version": "2.7.9"
  }
 },
 "nbformat": 4,
 "nbformat_minor": 2
}
